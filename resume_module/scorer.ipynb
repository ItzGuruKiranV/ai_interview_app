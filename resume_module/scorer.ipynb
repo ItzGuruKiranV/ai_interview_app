{
 "cells": [
  {
   "cell_type": "code",
   "execution_count": 1,
   "id": "68426a04-c11c-4935-834d-a618c656397c",
   "metadata": {},
   "outputs": [
    {
     "name": "stderr",
     "output_type": "stream",
     "text": [
      "[nltk_data] Downloading package punkt to\n",
      "[nltk_data]     C:\\Users\\guruk\\AppData\\Roaming\\nltk_data...\n",
      "[nltk_data]   Package punkt is already up-to-date!\n",
      "[nltk_data] Downloading package wordnet to\n",
      "[nltk_data]     C:\\Users\\guruk\\AppData\\Roaming\\nltk_data...\n",
      "[nltk_data]   Package wordnet is already up-to-date!\n"
     ]
    }
   ],
   "source": [
    "import os\n",
    "from functions import extract_text_from_pdf , extract_multiline_field , clean_text\n",
    "import pandas as pd\n",
    "import joblib"
   ]
  },
  {
   "cell_type": "code",
   "execution_count": 2,
   "id": "efc27b5b-0845-4ec8-b228-6b1605855e99",
   "metadata": {},
   "outputs": [
    {
     "name": "stdout",
     "output_type": "stream",
     "text": [
      "✅ Extraction DONE\n"
     ]
    }
   ],
   "source": [
    "pdf_path = input(\"Enter the resume PDF path: \").strip()\n",
    "pdf_data = []\n",
    "\n",
    "if pdf_path.endswith(\".pdf\"):\n",
    "    try:\n",
    "        text = extract_text_from_pdf(pdf_path)\n",
    "        row = {\n",
    "            \"Education\": extract_multiline_field(\"Education\", text),\n",
    "            \"Skills\": extract_multiline_field(\"Skills\", text),\n",
    "            \"Projects\": extract_multiline_field(\"Projects\", text),\n",
    "            \"Certifications\": extract_multiline_field(\"Certifications\", text)\n",
    "        }\n",
    "        pdf_data.append(row)\n",
    "        print(\"✅ Extraction DONE\")\n",
    "    except Exception as e:\n",
    "        print(\"❌ Error reading the PDF:\", e)\n",
    "else:\n",
    "    print(\"⚠️ You have entered an invalid file path or non-PDF.\")\n"
   ]
  },
  {
   "cell_type": "code",
   "execution_count": 3,
   "id": "367dbcb7-4c34-4e1e-9fce-8ca5f55a341f",
   "metadata": {},
   "outputs": [],
   "source": [
    "columns = [\"Education\", \"Skills\", \"Projects\", \"Certifications\", \"Experience\", \"Achievements\"]\n",
    "\n",
    "# Grab the first row (dictionary) from the list\n",
    "raw_row = pdf_data[0]  # If it's a list with one dictionary\n",
    "\n",
    "# Make sure all 6 columns exist\n",
    "pdf_row = {col: raw_row.get(col, '') for col in columns}\n",
    "\n",
    "# Create DataFrame and append the row\n",
    "df = pd.DataFrame(columns=columns)\n",
    "df = pd.concat([df, pd.DataFrame([pdf_row])], ignore_index=True)\n",
    "\n",
    "# Clean and combine text\n",
    "for col in df.columns:\n",
    "    df[col] = df[col].fillna('').apply(clean_text)\n",
    "\n",
    "df[\"combined_text\"] = (\n",
    "    df[\"Education\"] + \" \" +\n",
    "    df[\"Skills\"] + \" \" +\n",
    "    df[\"Projects\"] + \" \" +\n",
    "    df[\"Certifications\"] + \" \" +\n",
    "    df[\"Experience\"] + \" \" +\n",
    "    df[\"Achievements\"]\n",
    ")\n"
   ]
  },
  {
   "cell_type": "code",
   "execution_count": 4,
   "id": "432a9a0f-8645-42f0-8e52-2e5cd1f6c497",
   "metadata": {},
   "outputs": [],
   "source": [
    "# Replace with your actual paths if they are in a different folder\n",
    "model = joblib.load(\"resume_model.pkl\")\n",
    "vectorizer = joblib.load(\"vectorizer.pkl\")\n"
   ]
  },
  {
   "cell_type": "code",
   "execution_count": 5,
   "id": "c18cd817-4d48-43a6-82e0-45c2b4629b71",
   "metadata": {},
   "outputs": [
    {
     "name": "stdout",
     "output_type": "stream",
     "text": [
      "🎯 Predicted Resume Score: 8.08 / 100\n"
     ]
    }
   ],
   "source": [
    "X = vectorizer.transform(df['combined_text'])\n",
    "\n",
    "# Predict\n",
    "predicted_score = model.predict(X)[0]\n",
    "\n",
    "print(f\"🎯 Predicted Resume Score: {predicted_score:.2f} / 100\")"
   ]
  },
  {
   "cell_type": "code",
   "execution_count": null,
   "id": "c3c7e932-7e4e-4c25-a120-8c4358b74a12",
   "metadata": {},
   "outputs": [],
   "source": []
  }
 ],
 "metadata": {
  "kernelspec": {
   "display_name": "Python 3",
   "language": "python",
   "name": "python3"
  },
  "language_info": {
   "codemirror_mode": {
    "name": "ipython",
    "version": 3
   },
   "file_extension": ".py",
   "mimetype": "text/x-python",
   "name": "python",
   "nbconvert_exporter": "python",
   "pygments_lexer": "ipython3",
   "version": "3.10.11"
  }
 },
 "nbformat": 4,
 "nbformat_minor": 5
}
